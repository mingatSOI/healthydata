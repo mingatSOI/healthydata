{
 "cells": [
  {
   "cell_type": "code",
   "execution_count": 4,
   "metadata": {},
   "outputs": [],
   "source": [
    "import pandas as pd\n",
    "import dedupe as dd"
   ]
  },
  {
   "cell_type": "code",
   "execution_count": 11,
   "metadata": {},
   "outputs": [],
   "source": [
    "ff = pd.read_excel('./data/FF_2007-2018.xlsx')\n",
    "funf = pd.read_excel('./data/FUNF_2007-2018.xlsx')\n",
    "hh = pd.read_excel('./data/HH_2007-2018.xlsx')\n",
    "hp = pd.read_excel('./data/HP_2007-2018.xlsx')\n",
    "oe = pd.read_excel('./data/OE_2007-2018.xlsx')\n",
    "ss = pd.read_excel('./data/SS_2007-2018.xlsx')"
   ]
  },
  {
   "cell_type": "code",
   "execution_count": 57,
   "metadata": {},
   "outputs": [],
   "source": [
    "def get_count(df, colname):\n",
    "   return df[colname].value_counts()\n",
    "\n",
    "firstname_cnt = get_count(ff, 'Athlete_First_Name')[:100]"
   ]
  },
  {
   "cell_type": "code",
   "execution_count": 58,
   "metadata": {},
   "outputs": [],
   "source": [
    "def lower_cap(df, colname):\n",
    "    low = df[colname].str.lower()\n",
    "    clean = low.str.capitalize()\n",
    "    return clean\n",
    "\n",
    "test =lower_case(ff, 'Athlete_First_Name')"
   ]
  },
  {
   "cell_type": "code",
   "execution_count": 64,
   "metadata": {},
   "outputs": [
    {
     "data": {
      "text/plain": [
       "Germany            4665\n",
       "Unknown            1428\n",
       "Kumar               747\n",
       "Smith               433\n",
       "Ukn                 413\n",
       "Johnson             376\n",
       "Lee                 353\n",
       "Wang                328\n",
       "Li                  327\n",
       "Kim                 300\n",
       "Zhang               278\n",
       "Kumari              276\n",
       "Chen                262\n",
       "Williams            262\n",
       "Brown               258\n",
       "Jones               232\n",
       "Poland              230\n",
       "Lopez               217\n",
       "Gonzalez            208\n",
       "Garcia              205\n",
       "Martinez            203\n",
       "Liu                 194\n",
       "Miller              194\n",
       "Singh               192\n",
       "Anderson            192\n",
       "Davis               188\n",
       "Wong                173\n",
       "Rodriguez           161\n",
       "Wilson              149\n",
       "Chan                144\n",
       "                   ... \n",
       "Mclindon              1\n",
       "Ezelle                1\n",
       "Mutholib              1\n",
       "Yamauchi              1\n",
       "Aurich                1\n",
       "Budde                 1\n",
       "Mccardell             1\n",
       "Venable               1\n",
       "Nowacheck             1\n",
       "Karmmkar              1\n",
       "Raveneau              1\n",
       "Gomez peris           1\n",
       "Nowecki               1\n",
       "Radowski              1\n",
       "Mamonog               1\n",
       "Belgrave              1\n",
       "Recce                 1\n",
       "Soliwoda              1\n",
       "Tourdot               1\n",
       "Burkes                1\n",
       "Shuang you            1\n",
       "Tabata                1\n",
       "Lentsweana            1\n",
       "Tobon gutierrez       1\n",
       "Stehli                1\n",
       "Ozdyk                 1\n",
       "Chicol                1\n",
       "Harter                1\n",
       "Rodenbeck             1\n",
       "Gyertyanosi           1\n",
       "Name: Athlete_Name, Length: 41093, dtype: int64"
      ]
     },
     "execution_count": 64,
     "metadata": {},
     "output_type": "execute_result"
    }
   ],
   "source": [
    "lastname = lower_case(ff, 'Athlete_Name')\n",
    "lastname.value_counts()"
   ]
  },
  {
   "cell_type": "code",
   "execution_count": 61,
   "metadata": {},
   "outputs": [
    {
     "data": {
      "text/plain": [
       "Research_ID                                 object\n",
       "Quarter_Added                               object\n",
       "Id                                         float64\n",
       "Athlete_Name                                object\n",
       "Athlete_First_Name                          object\n",
       "Athlete_Gender                              object\n",
       "Athlete_Date_Of_Birth               datetime64[ns]\n",
       "Age                                        float64\n",
       "Athlete_HAS_id                              object\n",
       "Athlete_Unique_ID                           object\n",
       "Status                                      object\n",
       "Disciplines                                 object\n",
       "SO_Program                                  object\n",
       "Delegation                                  object\n",
       "Country                                     object\n",
       "Development_Status                          object\n",
       "WHO_Country                                 object\n",
       "Region                                      object\n",
       "Region2                                     object\n",
       "Athlete_Mobile                              object\n",
       "Guardian_Mobile                             object\n",
       "Form_Date                           datetime64[ns]\n",
       "Form_Name                                   object\n",
       "Event                                       object\n",
       "Date_Of_Event                       datetime64[ns]\n",
       "Event_Type                                  object\n",
       "general_information                         object\n",
       "General_Information__Comments               object\n",
       "____Responsible_HCP                         object\n",
       "Weight                                     float64\n",
       "                                         ...      \n",
       "Follow_Up_Care_Referred_To_Name             object\n",
       "Follow_Up_Care_Referred_To_Refer            object\n",
       "Follow_Up_Care_Referred_To_Deliv            object\n",
       "delivered                                   object\n",
       "prescribed_comments                         object\n",
       "delivered_devices_orthopedic_arc            object\n",
       "comments                                    object\n",
       "Walk_In                                     object\n",
       "Estimated_Age                               object\n",
       "location                                    object\n",
       "program                                     object\n",
       "FitF_Athlete_concerns_previous_t            object\n",
       "FitF_Foot_Structure                        float64\n",
       "FitF_Joint_ROM                             float64\n",
       "FitF_Is_the_current_shoe_size_th            object\n",
       "FitF_custom_noncustom                       object\n",
       "FitF_soft_rigid                             object\n",
       "fitFeetProfessionalReferral                 object\n",
       "FitF_Insoles                                object\n",
       "FitF_Foot_Structure___Left_Foot             object\n",
       "FitF_Foot_Structure___Right_Foot            object\n",
       "FitF_Measured_shoe_size                     object\n",
       "FitF_Prescribed_and_OTC_Treatmen            object\n",
       "FitF_l_w_measured__in                       object\n",
       "F147                                       float64\n",
       "fit_feet_total                              object\n",
       "yearevent                                    int64\n",
       "gait2                                       object\n",
       "boned                                       object\n",
       "skin_nail_con                               object\n",
       "Length: 152, dtype: object"
      ]
     },
     "execution_count": 61,
     "metadata": {},
     "output_type": "execute_result"
    }
   ],
   "source": [
    "ff.dtypes"
   ]
  },
  {
   "cell_type": "code",
   "execution_count": null,
   "metadata": {},
   "outputs": [],
   "source": [
    " def clean_dates(col):\n",
    "        \n",
    "        "
   ]
  }
 ],
 "metadata": {
  "kernelspec": {
   "display_name": "Python 3",
   "language": "python",
   "name": "python3"
  },
  "language_info": {
   "codemirror_mode": {
    "name": "ipython",
    "version": 3
   },
   "file_extension": ".py",
   "mimetype": "text/x-python",
   "name": "python",
   "nbconvert_exporter": "python",
   "pygments_lexer": "ipython3",
   "version": "3.7.0"
  }
 },
 "nbformat": 4,
 "nbformat_minor": 2
}
